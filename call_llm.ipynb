{
 "cells": [
  {
   "cell_type": "code",
   "execution_count": null,
   "id": "dcef74ca",
   "metadata": {},
   "outputs": [],
   "source": [
    "# From a short course on DeepLearning.AI\n",
    "# https://www.deeplearning.ai/short-courses/building-ai-powered-chatbots\n",
    "#!/usr/bin/env python3\n",
    "from helper_functions import print_llm_response\n",
    "\n",
    "prompt = \"What's the capital of France?\"\n",
    "response = print_llm_response(prompt)\n",
    "print(response)\n"
   ]
  },
  {
   "cell_type": "code",
   "execution_count": null,
   "id": "880e2c5c",
   "metadata": {},
   "outputs": [],
   "source": []
  }
 ],
 "metadata": {
  "kernelspec": {
   "display_name": "base",
   "language": "python",
   "name": "python3"
  },
  "language_info": {
   "codemirror_mode": {
    "name": "ipython",
    "version": 3
   },
   "file_extension": ".py",
   "mimetype": "text/x-python",
   "name": "python",
   "nbconvert_exporter": "python",
   "pygments_lexer": "ipython3",
   "version": "3.12.7"
  }
 },
 "nbformat": 4,
 "nbformat_minor": 5
}
